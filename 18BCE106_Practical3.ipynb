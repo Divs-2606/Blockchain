{
 "cells": [
  {
   "cell_type": "markdown",
   "metadata": {},
   "source": [
    "## Name : Divya Mahur\n",
    "## Roll no: 18BCE106\n",
    "## Subject: Blockchain Technology\n",
    "## Practical 3\n",
    "## Date: 10-09-2021"
   ]
  },
  {
   "cell_type": "code",
   "execution_count": 1,
   "metadata": {},
   "outputs": [],
   "source": [
    "import hashlib"
   ]
  },
  {
   "cell_type": "code",
   "execution_count": 2,
   "metadata": {},
   "outputs": [],
   "source": [
    "block={\n",
    "    'transactions':[\n",
    "        {\n",
    "            'from':'Prince',\n",
    "            'to':'Maurya',\n",
    "            'amount':30,\n",
    "            'message':' P to M 30'\n",
    "        },\n",
    "        {\n",
    "            'from':'Maurya',\n",
    "            'to':'Sakshi',\n",
    "            'amount':20,\n",
    "            'message':' M to S 20'\n",
    "        },\n",
    "         {\n",
    "            'from':'Shakshi',\n",
    "            'to':'Raj',\n",
    "            'amount':30,\n",
    "            'message':' S to R 30'\n",
    "        }     \n",
    "    ]\n",
    "}"
   ]
  },
  {
   "cell_type": "code",
   "execution_count": 3,
   "metadata": {},
   "outputs": [
    {
     "data": {
      "text/plain": [
       "'9789d9ea11ca9fcc7a6e9c258455b81e7da7f3e4e3b39d34b3faf8a96caec8d7'"
      ]
     },
     "execution_count": 3,
     "metadata": {},
     "output_type": "execute_result"
    }
   ],
   "source": [
    "import pickle\n",
    "\n",
    "pickle.dumps(block)\n",
    "\n",
    "m=hashlib.sha3_256()\n",
    "m.update(pickle.dumps(block))\n",
    "m.digest()\n",
    "m.hexdigest()"
   ]
  },
  {
   "cell_type": "code",
   "execution_count": 4,
   "metadata": {},
   "outputs": [
    {
     "name": "stdout",
     "output_type": "stream",
     "text": [
      "0\n"
     ]
    }
   ],
   "source": [
    "import time\n",
    "difficulty = 1\n",
    "\n",
    "difficulty_string = ''.join(('0' for x in range(difficulty)))\n",
    "print(difficulty_string)"
   ]
  },
  {
   "cell_type": "code",
   "execution_count": 5,
   "metadata": {},
   "outputs": [
    {
     "name": "stdout",
     "output_type": "stream",
     "text": [
      "2 c43ab6be61a157ba904c365065bc0e9415ca2d85027c159aa7aa229cf4a90446\n",
      "3 4b4b4441e44352b70db9660c098020cfc1e234ccb8c4ec021d5f68f2cca2ca1d\n",
      "4 7fdc850879cdb0e132ddc9c3d55cbd07c1ce5d26035c0a5f14799631929b4278\n",
      "5 3b60b28b0a4cc7421ed424292e962e08c1e2f1ce55b776f3c88723e753044609\n",
      "6 67de7f42f6cf2ed0d5b8f46679f4303bb6e141f70060b7585204ddfc08e9e500\n",
      "7 fb38ab1b7734eeac7743e0b5760ab54cafac599d419e76526bd5ac7564a24bb2\n",
      "8 eab94cca93b4d6408fe4a4eca0094576dc4a4ae0d50d5299619399f630915ece\n",
      "9 c35dba9652582c119ce32c207dd20db0bed3fb6ae319782a20c6f72e85415158\n",
      "10 21bb19d902155947efda515985364849b7ae31a8a66121d5d671628e501bff89\n",
      "11 684a2713ba2a31cd357773e03b25308a5adbc6543df9af62df0eadd2ed148a7a\n",
      "12 363f327d7cf730f12b4aadc704172249fa43032e9c27974c2ebf36ad011ee003\n",
      "13 6edd789d157d079604c79d6c15891f7e85b81f4c2eadb4cff48d3b395df1fb48\n",
      "14 ab8396200eaf3f70eb38a0c1ac7ba77caae237afe6f2cfe5a9bb624dee2a0004\n",
      "15 bf20f3f9c8afcb1ea29647da55ca4af50a3d062934f4bbbd3464fb336dc3bc75\n",
      "16 fc0c4a04edee076ec782eecf5b4907c3bb8f5321d3c2872b838181dbe7cd92d2\n",
      "17 b17f71e6013de6d0abcdbac5d4d43e5698d4ee51aff0c58f759b696626645848\n",
      "18 36e88dde79c7d033ca31c6715e0c1e0964e6e1ce056592a0b5e7eb099dba68a6\n",
      "19 914bf21980470e5573b09d9da81e376c6a4913cca21258ed504e50ffe12dc9a5\n",
      "20 49b5c485cc420b0a1978abc491f9a2060c1ca86020597d9205fc888684910db2\n",
      "21 9b788dfc8495f495c6d3a32e71417468884bc0b1e6545e1dd6b7ffbc4acd5bd8\n",
      "22 0b58db138687db2913da076e3c6104c519cb17d78173eb3e382652b9a09a63a1\n",
      "PoW Minning took 0.015620231628417969 seconds\n"
     ]
    }
   ],
   "source": [
    "nonce=1\n",
    "last_block={}\n",
    "last_block['nonce']=1\n",
    "start = time.time()\n",
    "q=m=hashlib.sha3_256()\n",
    "while q.hexdigest() [:difficulty] != difficulty_string:\n",
    "    nonce += 1\n",
    "    last_block['nonce']=nonce\n",
    "    q=hashlib.sha3_256()\n",
    "    q.update(pickle.dumps(last_block))\n",
    "    print(nonce,q.hexdigest())\n",
    "    \n",
    "total_time = (time.time()-start)\n",
    "print('PoW Minning took' + ' ' + str(total_time)+ ' seconds')"
   ]
  }
 ],
 "metadata": {
  "kernelspec": {
   "display_name": "Python 3",
   "language": "python",
   "name": "python3"
  },
  "language_info": {
   "codemirror_mode": {
    "name": "ipython",
    "version": 3
   },
   "file_extension": ".py",
   "mimetype": "text/x-python",
   "name": "python",
   "nbconvert_exporter": "python",
   "pygments_lexer": "ipython3",
   "version": "3.8.3"
  }
 },
 "nbformat": 4,
 "nbformat_minor": 4
}
