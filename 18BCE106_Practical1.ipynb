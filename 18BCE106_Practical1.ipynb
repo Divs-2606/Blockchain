{
 "cells": [
  {
   "cell_type": "markdown",
   "metadata": {
    "id": "D5K5Ce3BhXpc"
   },
   "source": [
    "## Roll No: 18BCE106\n",
    "## Practical : 1\n",
    "#### Aim : To implement digital signature to sign and verify authenticated user. Also, show a message when tampering is detected. "
   ]
  },
  {
   "cell_type": "markdown",
   "metadata": {
    "id": "VO4KkVSRxHLO"
   },
   "source": [
    "# **Install**"
   ]
  },
  {
   "cell_type": "code",
   "execution_count": null,
   "metadata": {
    "colab": {
     "background_save": true,
     "base_uri": "https://localhost:8080/"
    },
    "executionInfo": {
     "elapsed": 5089,
     "status": "ok",
     "timestamp": 1627836243773,
     "user": {
      "displayName": "PRINCE MEHTA",
      "photoUrl": "https://lh3.googleusercontent.com/a-/AOh14Givx3iB6E2ypLoZj6amPNcDjzIe-DEnE3ec8CbI=s64",
      "userId": "11147082769438161026"
     },
     "user_tz": -330
    },
    "id": "_H9YG5L4mDUt",
    "outputId": "f03141fc-d65b-4499-9577-7b54b9223d19"
   },
   "outputs": [
    {
     "name": "stdout",
     "output_type": "stream",
     "text": [
      "Requirement already satisfied: pycryptodome in /usr/local/lib/python3.7/dist-packages (3.10.1)\n"
     ]
    }
   ],
   "source": [
    "pip install pycryptodome"
   ]
  },
  {
   "cell_type": "markdown",
   "metadata": {
    "id": "_XcEqc4Iw6uq"
   },
   "source": [
    "# **SHA- 3-512  bits**\n"
   ]
  },
  {
   "cell_type": "code",
   "execution_count": null,
   "metadata": {
    "colab": {
     "background_save": true,
     "base_uri": "https://localhost:8080/"
    },
    "executionInfo": {
     "elapsed": 1654,
     "status": "ok",
     "timestamp": 1627837594602,
     "user": {
      "displayName": "PRINCE MEHTA",
      "photoUrl": "https://lh3.googleusercontent.com/a-/AOh14Givx3iB6E2ypLoZj6amPNcDjzIe-DEnE3ec8CbI=s64",
      "userId": "11147082769438161026"
     },
     "user_tz": -330
    },
    "id": "TKNu2NUgrIrw",
    "outputId": "e19a2249-edc1-488d-9f8c-ca197bdc6911"
   },
   "outputs": [
    {
     "name": "stdout",
     "output_type": "stream",
     "text": [
      "5904ec30b84167de76da14592a16b33f87fe5d773aac2e44c86e42d4dbad9344\n"
     ]
    }
   ],
   "source": [
    "from Crypto.Hash import SHA256\n",
    "h =  SHA256.new()\n",
    "h.update(b'18BCE120 Mehta Prince S')\n",
    "print(h.digest())\n",
    "print(h.hexdigest())"
   ]
  },
  {
   "cell_type": "code",
   "execution_count": null,
   "metadata": {
    "colab": {
     "background_save": true,
     "base_uri": "https://localhost:8080/"
    },
    "executionInfo": {
     "elapsed": 806,
     "status": "ok",
     "timestamp": 1627837814741,
     "user": {
      "displayName": "PRINCE MEHTA",
      "photoUrl": "https://lh3.googleusercontent.com/a-/AOh14Givx3iB6E2ypLoZj6amPNcDjzIe-DEnE3ec8CbI=s64",
      "userId": "11147082769438161026"
     },
     "user_tz": -330
    },
    "id": "MdhqZyJVrygT",
    "outputId": "3b51cac6-a0d0-4ad4-e64d-9f80deb00e36"
   },
   "outputs": [
    {
     "name": "stdout",
     "output_type": "stream",
     "text": [
      "1c3ab61aa4038ae881e3c984bf876100c3dad628b232cfd89ce2bd19a5802c9f\n"
     ]
    }
   ],
   "source": [
    "# avalanche effect\n",
    "h.update(b'8BCE120 Mehta Prince S')\n",
    "print(h.digest())\n",
    "print(h.hexdigest())"
   ]
  },
  {
   "cell_type": "code",
   "execution_count": null,
   "metadata": {
    "colab": {
     "base_uri": "https://localhost:8080/"
    },
    "executionInfo": {
     "elapsed": 452,
     "status": "ok",
     "timestamp": 1627838825668,
     "user": {
      "displayName": "PRINCE MEHTA",
      "photoUrl": "https://lh3.googleusercontent.com/a-/AOh14Givx3iB6E2ypLoZj6amPNcDjzIe-DEnE3ec8CbI=s64",
      "userId": "11147082769438161026"
     },
     "user_tz": -330
    },
    "id": "FMvT2DpWsfGe",
    "outputId": "de8190b5-7fc6-4129-d4ff-fd709e4eb15e"
   },
   "outputs": [
    {
     "name": "stdout",
     "output_type": "stream",
     "text": [
      "32\n"
     ]
    }
   ],
   "source": [
    "print(h.digest_size)"
   ]
  },
  {
   "cell_type": "code",
   "execution_count": null,
   "metadata": {
    "colab": {
     "base_uri": "https://localhost:8080/"
    },
    "executionInfo": {
     "elapsed": 447,
     "status": "ok",
     "timestamp": 1627838887388,
     "user": {
      "displayName": "PRINCE MEHTA",
      "photoUrl": "https://lh3.googleusercontent.com/a-/AOh14Givx3iB6E2ypLoZj6amPNcDjzIe-DEnE3ec8CbI=s64",
      "userId": "11147082769438161026"
     },
     "user_tz": -330
    },
    "id": "1nxYvRJKwGsW",
    "outputId": "8bc71c1f-fecc-4a6a-f854-dfa6e95c3831"
   },
   "outputs": [
    {
     "name": "stdout",
     "output_type": "stream",
     "text": [
      "2.16.840.1.101.3.4.2.1\n"
     ]
    }
   ],
   "source": [
    "print(h.oid) #identifier"
   ]
  },
  {
   "cell_type": "code",
   "execution_count": null,
   "metadata": {
    "colab": {
     "base_uri": "https://localhost:8080/"
    },
    "executionInfo": {
     "elapsed": 498,
     "status": "ok",
     "timestamp": 1627838915201,
     "user": {
      "displayName": "PRINCE MEHTA",
      "photoUrl": "https://lh3.googleusercontent.com/a-/AOh14Givx3iB6E2ypLoZj6amPNcDjzIe-DEnE3ec8CbI=s64",
      "userId": "11147082769438161026"
     },
     "user_tz": -330
    },
    "id": "9mRgYjx_wl-H",
    "outputId": "7df19a61-778a-4758-94f0-6036a50df7a2"
   },
   "outputs": [
    {
     "name": "stdout",
     "output_type": "stream",
     "text": [
      "64\n"
     ]
    }
   ],
   "source": [
    "print(h.block_size) "
   ]
  },
  {
   "cell_type": "markdown",
   "metadata": {
    "id": "J9jMh6lqwuQw"
   },
   "source": [
    "# **SHA- 3-512  bits**"
   ]
  },
  {
   "cell_type": "code",
   "execution_count": null,
   "metadata": {
    "colab": {
     "base_uri": "https://localhost:8080/"
    },
    "executionInfo": {
     "elapsed": 433,
     "status": "ok",
     "timestamp": 1627839151759,
     "user": {
      "displayName": "PRINCE MEHTA",
      "photoUrl": "https://lh3.googleusercontent.com/a-/AOh14Givx3iB6E2ypLoZj6amPNcDjzIe-DEnE3ec8CbI=s64",
      "userId": "11147082769438161026"
     },
     "user_tz": -330
    },
    "id": "STyXNNd5xMo1",
    "outputId": "e29d1baa-4a0f-48e6-f677-82f37895ff35"
   },
   "outputs": [
    {
     "name": "stdout",
     "output_type": "stream",
     "text": [
      "b\"\\xb5\\x902\\xd5\\xaf \\xff\\x10s\\xb7zd\\xc6\\xf2\\xf0=+\\xa5\\x90\\x16@\\x17\\r\\xe2\\x0e\\xdac@U\\xc5\\x1a\\xb3\\xec\\xf7\\x9f\\x02t\\xd65\\x9bn\\xa9'\\x89\\xbb\\xea\\xad\\xfa\\xe9ws;\\x05V?>3k\\xed\\x91p\\xa3\\x00\\xfe\"\n",
      "b59032d5af20ff1073b77a64c6f2f03d2ba5901640170de20eda634055c51ab3ecf79f0274d6359b6ea92789bbeaadfae977733b05563f3e336bed9170a300fe\n",
      "64\n"
     ]
    }
   ],
   "source": [
    "from Crypto.Hash import SHA3_512\n",
    "h =  SHA3_512.new()\n",
    "h.update(b'18BCE120 Mehta Prince S')\n",
    "print(h.digest())\n",
    "print(h.hexdigest())\n",
    "print(h.digest_size)"
   ]
  },
  {
   "cell_type": "markdown",
   "metadata": {
    "id": "TOOBKRUhxrC5"
   },
   "source": [
    "# **Hashed MAC**"
   ]
  },
  {
   "cell_type": "code",
   "execution_count": null,
   "metadata": {
    "colab": {
     "base_uri": "https://localhost:8080/"
    },
    "executionInfo": {
     "elapsed": 409,
     "status": "ok",
     "timestamp": 1627839391238,
     "user": {
      "displayName": "PRINCE MEHTA",
      "photoUrl": "https://lh3.googleusercontent.com/a-/AOh14Givx3iB6E2ypLoZj6amPNcDjzIe-DEnE3ec8CbI=s64",
      "userId": "11147082769438161026"
     },
     "user_tz": -330
    },
    "id": "1v-J3gkCxzIL",
    "outputId": "57b9d301-b0e7-4c3f-926b-047c4fab309f"
   },
   "outputs": [
    {
     "name": "stdout",
     "output_type": "stream",
     "text": [
      "MAC value \t 21119fc01aa44bb9e23cbb6841b532f03467b1ee7df2bfe6afa69b776c9a11e7\n"
     ]
    }
   ],
   "source": [
    "from Crypto.Hash import HMAC, SHA256\n",
    "secret = b'Sqordfish'\n",
    "h = HMAC.new(secret, digestmod=SHA256)\n",
    "h.update(b'18BCE120 Mehta Prince S')\n",
    "print('MAC value \\t',h.hexdigest())"
   ]
  },
  {
   "cell_type": "markdown",
   "metadata": {
    "id": "jl-TC1Kfye_w"
   },
   "source": [
    "# **Message Digest (MD5) algorithm**"
   ]
  },
  {
   "cell_type": "code",
   "execution_count": null,
   "metadata": {
    "colab": {
     "base_uri": "https://localhost:8080/"
    },
    "executionInfo": {
     "elapsed": 502,
     "status": "ok",
     "timestamp": 1627839666076,
     "user": {
      "displayName": "PRINCE MEHTA",
      "photoUrl": "https://lh3.googleusercontent.com/a-/AOh14Givx3iB6E2ypLoZj6amPNcDjzIe-DEnE3ec8CbI=s64",
      "userId": "11147082769438161026"
     },
     "user_tz": -330
    },
    "id": "jMobEzc6y9_I",
    "outputId": "ab82bc7a-3e50-4aa3-e6c8-3ea5390ca7c8"
   },
   "outputs": [
    {
     "name": "stdout",
     "output_type": "stream",
     "text": [
      "b10a8db164e0754105b7a99be72e3fe5\n"
     ]
    }
   ],
   "source": [
    "from Crypto.Hash import MD5\n",
    "h = MD5.new()\n",
    "h.update(b'Hello World')\n",
    "print(h.hexdigest())"
   ]
  },
  {
   "cell_type": "markdown",
   "metadata": {
    "id": "Evmzxwbvziw1"
   },
   "source": [
    "# **Different Hash Algorithms. SHA-256, SHA3-256, BLAKE2s, RIPEMD**"
   ]
  },
  {
   "cell_type": "code",
   "execution_count": null,
   "metadata": {
    "colab": {
     "base_uri": "https://localhost:8080/"
    },
    "executionInfo": {
     "elapsed": 460,
     "status": "ok",
     "timestamp": 1627840756879,
     "user": {
      "displayName": "PRINCE MEHTA",
      "photoUrl": "https://lh3.googleusercontent.com/a-/AOh14Givx3iB6E2ypLoZj6amPNcDjzIe-DEnE3ec8CbI=s64",
      "userId": "11147082769438161026"
     },
     "user_tz": -330
    },
    "id": "r_AXrwj5zw3b",
    "outputId": "4c6a5bf3-b7e3-4d95-9ced-0da9a98fb0d0"
   },
   "outputs": [
    {
     "name": "stdout",
     "output_type": "stream",
     "text": [
      "SHA256 :  b'5904ec30b84167de76da14592a16b33f87fe5d773aac2e44c86e42d4dbad9344'\n",
      "SHA3-256 :  b'5904ec30b84167de76da14592a16b33f87fe5d773aac2e44c86e42d4dbad9344'\n",
      "blake2s :  b'811e676f50d8b706408c63934be03f078c02236d6216a0ed576d392a9b1b67a8'\n",
      "ripemd160 :  b'2fc503401cfab511f362f21f4972a1be2cd82f8f'\n"
     ]
    }
   ],
   "source": [
    "import hashlib, binascii\n",
    "text = '18BCE120 Mehta Prince S'\n",
    "data = text.encode(\"utf8\")\n",
    "\n",
    "sha256hash =  hashlib.sha256(data).digest()\n",
    "print(\"SHA256 : \", binascii.hexlify(sha256hash))\n",
    "\n",
    "\n",
    "sha3_256hash =  hashlib.sha3_256(data).digest()\n",
    "print(\"SHA3-256 : \", binascii.hexlify(sha256hash))\n",
    "\n",
    "blake2s =  hashlib.new('blake2s',data).digest()\n",
    "print(\"blake2s : \", binascii.hexlify(blake2s))\n",
    "\n",
    "ripemd160 = hashlib.new('ripemd160',data).digest()\n",
    "print(\"ripemd160 : \", binascii.hexlify(ripemd160))\n"
   ]
  },
  {
   "cell_type": "markdown",
   "metadata": {
    "id": "7P8rSjEN3wKx"
   },
   "source": [
    "# **Keccak coin**"
   ]
  },
  {
   "cell_type": "code",
   "execution_count": 32,
   "metadata": {
    "colab": {
     "base_uri": "https://localhost:8080/"
    },
    "executionInfo": {
     "elapsed": 401,
     "status": "ok",
     "timestamp": 1627844214987,
     "user": {
      "displayName": "PRINCE MEHTA",
      "photoUrl": "https://lh3.googleusercontent.com/a-/AOh14Givx3iB6E2ypLoZj6amPNcDjzIe-DEnE3ec8CbI=s64",
      "userId": "11147082769438161026"
     },
     "user_tz": -330
    },
    "id": "2vyFaqlZ3vZu",
    "outputId": "8d1d748f-94f7-48c3-bda1-68d4cf95b17b"
   },
   "outputs": [
    {
     "name": "stdout",
     "output_type": "stream",
     "text": [
      "Keccak256 :  b'14c6ac066c56aec5ff9fd130f892aba7fc4d454460e78037337c505b265fc145'\n"
     ]
    }
   ],
   "source": [
    "from Crypto.Hash import keccak\n",
    "import binascii\n",
    "keccak256 = keccak.new(data=b'18BC120 Mehta Prince S', digest_bits=256).digest()\n",
    "print(\"Keccak256 : \", binascii.hexlify(keccak256))\n"
   ]
  },
  {
   "cell_type": "code",
   "execution_count": 33,
   "metadata": {
    "colab": {
     "base_uri": "https://localhost:8080/"
    },
    "executionInfo": {
     "elapsed": 435,
     "status": "ok",
     "timestamp": 1627844313186,
     "user": {
      "displayName": "PRINCE MEHTA",
      "photoUrl": "https://lh3.googleusercontent.com/a-/AOh14Givx3iB6E2ypLoZj6amPNcDjzIe-DEnE3ec8CbI=s64",
      "userId": "11147082769438161026"
     },
     "user_tz": -330
    },
    "id": "eu1n-rCKE4zi",
    "outputId": "e08d501f-abd4-4d0e-dfa1-686bcebcf8b4"
   },
   "outputs": [
    {
     "name": "stdout",
     "output_type": "stream",
     "text": [
      "b'0e5c72024cdab5d4350ea20630e5e5a4371101084584746a7f00adf0215cf12d509f905b0a4e3d1c12a33a7205c832dd5f6f202657b360d2e4581ff4286d499e'\n"
     ]
    }
   ],
   "source": [
    "import hashlib, hmac, binascii\n",
    "mac = hmac.new(b'sourcekey',b'18BC120 Mehta Prince S',hashlib.sha3_512).digest()\n",
    "print(binascii.hexlify(mac))"
   ]
  },
  {
   "cell_type": "markdown",
   "metadata": {
    "id": "_7mw_QYQFQ3S"
   },
   "source": [
    "# **RSA signature and verification**"
   ]
  },
  {
   "cell_type": "code",
   "execution_count": 34,
   "metadata": {
    "colab": {
     "base_uri": "https://localhost:8080/"
    },
    "executionInfo": {
     "elapsed": 419,
     "status": "ok",
     "timestamp": 1627844456003,
     "user": {
      "displayName": "PRINCE MEHTA",
      "photoUrl": "https://lh3.googleusercontent.com/a-/AOh14Givx3iB6E2ypLoZj6amPNcDjzIe-DEnE3ec8CbI=s64",
      "userId": "11147082769438161026"
     },
     "user_tz": -330
    },
    "id": "HpXYttSwFXBs",
    "outputId": "7b7a2d5a-9837-461c-fe3d-9984b00d3fe6"
   },
   "outputs": [
    {
     "name": "stdout",
     "output_type": "stream",
     "text": [
      "Public Key: (n=0x93321829e420dadbd8974373d9bb09a79d4cd6bc5b5934a3133b2d95d5d4f4f34cf0daad7835152080803c45a5ce8c0b4eccc56effbe58e53dd05b57c0b24e5e3bd438b85c946454a86a77ac45c9e559a4345d4bdc4b549c184626e5a9873dace7c4ff0e64c17be34e74b6137b458b59d0dca069c8341b9509591acaff10a994cf692be8df38665b3bd71d5d34bb7bf007311501dd59a05382f57de9ebd0deadd437514a174aee11e8369b838723f9027f068756af2138cf46e3879bfa998c0f82877ee31ac53b6bbbb2cc8026fbfdaba8d01a5d2d1e8179532b2053eba685f070c86df39a243dabf2d393c37b4594793705a95b227b8f5f6da773f44418f12d, e=0x10001)\n",
      "Private Key: (n=0x93321829e420dadbd8974373d9bb09a79d4cd6bc5b5934a3133b2d95d5d4f4f34cf0daad7835152080803c45a5ce8c0b4eccc56effbe58e53dd05b57c0b24e5e3bd438b85c946454a86a77ac45c9e559a4345d4bdc4b549c184626e5a9873dace7c4ff0e64c17be34e74b6137b458b59d0dca069c8341b9509591acaff10a994cf692be8df38665b3bd71d5d34bb7bf007311501dd59a05382f57de9ebd0deadd437514a174aee11e8369b838723f9027f068756af2138cf46e3879bfa998c0f82877ee31ac53b6bbbb2cc8026fbfdaba8d01a5d2d1e8179532b2053eba685f070c86df39a243dabf2d393c37b4594793705a95b227b8f5f6da773f44418f12d, e=0x1fc79982f5df88111e26ae680552c6075bc55ab969098dfd456a29f1e72c66c45ed0c38ddf5daa958d58e26a711d728c0073e28e9005c3409f436c6d3a4be4f2a07d35cfcc2137b6357463291d1a357bd0a183a11ccb60d5a0c208a4de20b656ade590e1c52c26f8d1180eb58f105941478052dbf3df183369c4c4ad9e3b3539793af9f9c9c67289147de651455c1d515251559f4ef5b08cfc135ebfebd0ad579203e6aaab620edcd4146f2262b9f5a9b3d600fb881fab311b6de93505e311520404fb846248aef24e655d77fa8e07708f45df6d38dc10a0af190ae7bede9cb223e4e047374d25f4fdf20c1e870108ff26d9eba996b86cfbbf3f9051ddeb5ed1)\n"
     ]
    }
   ],
   "source": [
    "from Crypto.PublicKey import RSA\n",
    "keyPair = RSA.generate(bits=2048)\n",
    "print(f\"Public Key: (n={hex(keyPair.n)}, e={hex(keyPair.e)})\")\n",
    "print(f\"Private Key: (n={hex(keyPair.n)}, e={hex(keyPair.d)})\")"
   ]
  },
  {
   "cell_type": "code",
   "execution_count": 35,
   "metadata": {
    "colab": {
     "base_uri": "https://localhost:8080/"
    },
    "executionInfo": {
     "elapsed": 418,
     "status": "ok",
     "timestamp": 1627844581425,
     "user": {
      "displayName": "PRINCE MEHTA",
      "photoUrl": "https://lh3.googleusercontent.com/a-/AOh14Givx3iB6E2ypLoZj6amPNcDjzIe-DEnE3ec8CbI=s64",
      "userId": "11147082769438161026"
     },
     "user_tz": -330
    },
    "id": "vxhk82IBF0VG",
    "outputId": "4ec378f7-7503-49b7-93d7-3536ef900c1d"
   },
   "outputs": [
    {
     "name": "stdout",
     "output_type": "stream",
     "text": [
      "Signature :  0x741a105e8b78499a2156482db431abb284514bffefa070ed6d646e447cb5a55a5e745f070bcdfe684f799e425d5eb3a00334afd872761334bf3576afa9125e88f0850ee7c53dfe2087798f3423ad310f312f87bf7895887613bcb6a9cc7fee2e8c54bf1e4300dc975f4eef0b199ae041aca3d2fb739c7036d5a8bd6062f24e93861e739e16869b4f9e1c0d5175e4f23737f1e44d9b6221c827c38a34a9bdd155fe815ad231e718381841cc863c7d6bd9d1cf4b7a6e39e34d6940204efb5506a24fe621604d2265f9fb8b3f923acf88474fac064e902414ce44e56c6818ac776137e60e3c87c045e39bdeb98adc6548b0a0d81461bdc48603908982c61d1ccfd4\n"
     ]
    }
   ],
   "source": [
    "# RSA sign the message\n",
    "msg = b'18BCE120 Mehta Prince S'\n",
    "from hashlib import sha512\n",
    "hash = int.from_bytes(sha512(msg).digest(),byteorder='big')\n",
    "signature = pow(hash , keyPair.d , keyPair.n)\n",
    "print(\"Signature : \",hex(signature))"
   ]
  },
  {
   "cell_type": "code",
   "execution_count": 36,
   "metadata": {
    "colab": {
     "base_uri": "https://localhost:8080/"
    },
    "executionInfo": {
     "elapsed": 408,
     "status": "ok",
     "timestamp": 1627844702257,
     "user": {
      "displayName": "PRINCE MEHTA",
      "photoUrl": "https://lh3.googleusercontent.com/a-/AOh14Givx3iB6E2ypLoZj6amPNcDjzIe-DEnE3ec8CbI=s64",
      "userId": "11147082769438161026"
     },
     "user_tz": -330
    },
    "id": "RcWL6xcIGSil",
    "outputId": "101fa6d9-3d05-4440-c272-f3f12e775fa9"
   },
   "outputs": [
    {
     "name": "stdout",
     "output_type": "stream",
     "text": [
      "Signature valid :  True\n"
     ]
    }
   ],
   "source": [
    "#RSA verify signature\n",
    "msg = b'18BCE120 Mehta Prince S'\n",
    "hash = int.from_bytes(sha512(msg).digest(),byteorder='big')\n",
    "hashFromSignature = pow(signature,keyPair.e,keyPair.n)\n",
    "print(\"Signature valid : \",hash == hashFromSignature)"
   ]
  },
  {
   "cell_type": "code",
   "execution_count": 37,
   "metadata": {
    "colab": {
     "base_uri": "https://localhost:8080/"
    },
    "executionInfo": {
     "elapsed": 392,
     "status": "ok",
     "timestamp": 1627844734732,
     "user": {
      "displayName": "PRINCE MEHTA",
      "photoUrl": "https://lh3.googleusercontent.com/a-/AOh14Givx3iB6E2ypLoZj6amPNcDjzIe-DEnE3ec8CbI=s64",
      "userId": "11147082769438161026"
     },
     "user_tz": -330
    },
    "id": "y8Zc0fk9Gw5t",
    "outputId": "8fc7fefb-5ab7-4c17-9856-9d1afd722e96"
   },
   "outputs": [
    {
     "name": "stdout",
     "output_type": "stream",
     "text": [
      "Signature valid :  False\n"
     ]
    }
   ],
   "source": [
    "#Tempered msg\n",
    "msg = b'8BCE120 Mehta Prince S'\n",
    "hash = int.from_bytes(sha512(msg).digest(),byteorder='big')\n",
    "hashFromSignature = pow(signature,keyPair.e,keyPair.n)\n",
    "print(\"Signature valid : \",hash == hashFromSignature)"
   ]
  },
  {
   "cell_type": "markdown",
   "metadata": {
    "id": "s14LDh6UHHOm"
   },
   "source": [
    "# **RSA and PKCS library**"
   ]
  },
  {
   "cell_type": "code",
   "execution_count": 39,
   "metadata": {
    "colab": {
     "base_uri": "https://localhost:8080/"
    },
    "executionInfo": {
     "elapsed": 696,
     "status": "ok",
     "timestamp": 1627845606541,
     "user": {
      "displayName": "PRINCE MEHTA",
      "photoUrl": "https://lh3.googleusercontent.com/a-/AOh14Givx3iB6E2ypLoZj6amPNcDjzIe-DEnE3ec8CbI=s64",
      "userId": "11147082769438161026"
     },
     "user_tz": -330
    },
    "id": "ODiDfkJ4HMqD",
    "outputId": "358227f7-877f-462c-fe41-1c946d61db4f"
   },
   "outputs": [
    {
     "name": "stdout",
     "output_type": "stream",
     "text": [
      "Signature :  b'c513b7aa5e103158e263021ee1e8c518770bab179f8b071967dbceba019b9fa8af75b73c1355083a82b9bb713e0b692d85d14fc1549bbaf10d97e36019f478634abc8f50106d91d8581932282da7fbec99a59c8fce7b2db547078e9282b051e0783061cbb9be81685ce9443a0700a9ccf2b76f4755aa349131b8c0709b9bc577'\n",
      "Signature is valid\n",
      "Signature is invalid\n"
     ]
    }
   ],
   "source": [
    "from Crypto.PublicKey import RSA\n",
    "from Crypto.Signature.pkcs1_15 import PKCS115_SigScheme\n",
    "from Crypto.Hash import SHA256\n",
    "import binascii\n",
    "\n",
    "keyPair = RSA.generate(bits=1024)\n",
    "pubKey = keyPair.publickey()\n",
    "\n",
    "#sign the message\n",
    "msg =  b'18BCE120 Mehta Prince S'\n",
    "hash = SHA256.new(msg)\n",
    "signer = PKCS115_SigScheme(keyPair)\n",
    "signature = signer.sign(hash)\n",
    "print(\"Signature : \",binascii.hexlify(signature))\n",
    "\n",
    "#verify correct msg\n",
    "msg =  b'18BCE120 Mehta Prince S'\n",
    "hash = SHA256.new(msg)\n",
    "verifier = PKCS115_SigScheme(pubKey)\n",
    "try:\n",
    "  verifier.verify(hash , signature)\n",
    "  print(\"Signature is valid\")\n",
    "except:\n",
    "  print(\"Signature is invalid\")\n",
    "\n",
    "#verify tempered msg\n",
    "msg =  b'8BCE120 Mehta Prince S'\n",
    "hash = SHA256.new(msg)\n",
    "verifier = PKCS115_SigScheme(pubKey)\n",
    "try:\n",
    "  verifier.verify(hash , signature)\n",
    "  print(\"Signature is valid\")\n",
    "except:\n",
    "  print(\"Signature is invalid\")"
   ]
  },
  {
   "cell_type": "markdown",
   "metadata": {
    "id": "9iqofokBLkM3"
   },
   "source": [
    "# **some part is not written here cover from video afterwards at 45:00 minute**"
   ]
  },
  {
   "cell_type": "markdown",
   "metadata": {
    "id": "f7WsD_csLrD_"
   },
   "source": [
    "# **Elliptic Curve Cryptography Digital Signature generation and veerification**"
   ]
  },
  {
   "cell_type": "code",
   "execution_count": 40,
   "metadata": {
    "colab": {
     "base_uri": "https://localhost:8080/"
    },
    "executionInfo": {
     "elapsed": 3293,
     "status": "ok",
     "timestamp": 1627847541294,
     "user": {
      "displayName": "PRINCE MEHTA",
      "photoUrl": "https://lh3.googleusercontent.com/a-/AOh14Givx3iB6E2ypLoZj6amPNcDjzIe-DEnE3ec8CbI=s64",
      "userId": "11147082769438161026"
     },
     "user_tz": -330
    },
    "id": "FS5PpsfYReQr",
    "outputId": "8da0000c-ec62-4393-f5b1-d4b6c75bf824"
   },
   "outputs": [
    {
     "name": "stdout",
     "output_type": "stream",
     "text": [
      "Collecting ecpy\n",
      "  Downloading ECPy-1.2.5-py3-none-any.whl (43 kB)\n",
      "\u001b[?25l\r\n",
      "\u001b[K     |███████▋                        | 10 kB 22.4 MB/s eta 0:00:01\r\n",
      "\u001b[K     |███████████████▏                | 20 kB 26.5 MB/s eta 0:00:01\r\n",
      "\u001b[K     |██████████████████████▉         | 30 kB 18.8 MB/s eta 0:00:01\r\n",
      "\u001b[K     |██████████████████████████████▍ | 40 kB 15.4 MB/s eta 0:00:01\r\n",
      "\u001b[K     |████████████████████████████████| 43 kB 992 kB/s \n",
      "\u001b[?25hInstalling collected packages: ecpy\n",
      "Successfully installed ecpy-1.2.5\n"
     ]
    }
   ],
   "source": [
    "pip install ecpy"
   ]
  },
  {
   "cell_type": "code",
   "execution_count": 49,
   "metadata": {
    "colab": {
     "base_uri": "https://localhost:8080/",
     "height": 248
    },
    "executionInfo": {
     "elapsed": 457,
     "status": "error",
     "timestamp": 1627848189262,
     "user": {
      "displayName": "PRINCE MEHTA",
      "photoUrl": "https://lh3.googleusercontent.com/a-/AOh14Givx3iB6E2ypLoZj6amPNcDjzIe-DEnE3ec8CbI=s64",
      "userId": "11147082769438161026"
     },
     "user_tz": -330
    },
    "id": "IZfrGiwzRjHp",
    "outputId": "eb603a24-7f81-45b0-ead9-6e5667389f7e"
   },
   "outputs": [
    {
     "name": "stdout",
     "output_type": "stream",
     "text": [
      "Private key (57 bytes):  ECPrivateKey:\n",
      "  d: 65e694e35aef95c0f73cfb327e6b3f9a6a20af04236d1a8da7b391eed22fecf66939d8b190247e4899719020e66e6cf4929b7b4a36b411576b\n"
     ]
    },
    {
     "ename": "AttributeError",
     "evalue": "ignored",
     "output_type": "error",
     "traceback": [
      "\u001b[0;31m---------------------------------------------------------------------------\u001b[0m",
      "\u001b[0;31mAttributeError\u001b[0m                            Traceback (most recent call last)",
      "\u001b[0;32m<ipython-input-49-3b35202d589a>\u001b[0m in \u001b[0;36m<module>\u001b[0;34m()\u001b[0m\n\u001b[1;32m     10\u001b[0m \u001b[0mprint\u001b[0m\u001b[0;34m(\u001b[0m\u001b[0;34m\"Private key (57 bytes): \"\u001b[0m\u001b[0;34m,\u001b[0m\u001b[0mprivkey\u001b[0m\u001b[0;34m)\u001b[0m\u001b[0;34m\u001b[0m\u001b[0;34m\u001b[0m\u001b[0m\n\u001b[1;32m     11\u001b[0m print(\"Public key (compressed, 57 bytes): \",\n\u001b[0;32m---> 12\u001b[0;31m       binascii.hexlify(curve.encode_point(pubKey.W)))\n\u001b[0m\u001b[1;32m     13\u001b[0m \u001b[0mprint\u001b[0m\u001b[0;34m(\u001b[0m\u001b[0;34m\"Public key (point): \"\u001b[0m\u001b[0;34m,\u001b[0m\u001b[0mpubKey\u001b[0m\u001b[0;34m)\u001b[0m\u001b[0;34m\u001b[0m\u001b[0;34m\u001b[0m\u001b[0m\n",
      "\u001b[0;31mAttributeError\u001b[0m: 'RsaKey' object has no attribute 'W'"
     ]
    }
   ],
   "source": [
    "from ecpy.curves import Curve\n",
    "from ecpy.keys import ECPrivateKey\n",
    "from ecpy.eddsa import EDDSA\n",
    "import secrets, hashlib, binascii\n",
    "\n",
    "curve = Curve.get_curve('Ed448')\n",
    "signer = EDDSA(hashlib.shake_256, hash_len=114)\n",
    "privkey = ECPrivateKey(secrets.randbits(57*8),curve)\n",
    "pubkey  = signer.get_public_key(privkey,hashlib.shake_256,hash_len=114)\n",
    "print(\"Private key (57 bytes): \",privkey)\n",
    "print(\"Public key (compressed, 57 bytes): \",\n",
    "      binascii.hexlify(curve.encode_point(pubKey.W)))\n",
    "print(\"Public key (point): \",pubKey)"
   ]
  },
  {
   "cell_type": "code",
   "execution_count": 48,
   "metadata": {
    "colab": {
     "base_uri": "https://localhost:8080/",
     "height": 231
    },
    "executionInfo": {
     "elapsed": 436,
     "status": "error",
     "timestamp": 1627848173337,
     "user": {
      "displayName": "PRINCE MEHTA",
      "photoUrl": "https://lh3.googleusercontent.com/a-/AOh14Givx3iB6E2ypLoZj6amPNcDjzIe-DEnE3ec8CbI=s64",
      "userId": "11147082769438161026"
     },
     "user_tz": -330
    },
    "id": "YGabwhQUTo_X",
    "outputId": "717642ee-f366-453d-8d37-17b3d578a14f"
   },
   "outputs": [
    {
     "ename": "NameError",
     "evalue": "ignored",
     "output_type": "error",
     "traceback": [
      "\u001b[0;31m---------------------------------------------------------------------------\u001b[0m",
      "\u001b[0;31mNameError\u001b[0m                                 Traceback (most recent call last)",
      "\u001b[0;32m<ipython-input-48-c351f27ce28f>\u001b[0m in \u001b[0;36m<module>\u001b[0;34m()\u001b[0m\n\u001b[1;32m      1\u001b[0m \u001b[0mmsg\u001b[0m \u001b[0;34m=\u001b[0m \u001b[0;34mb'Message for zigning'\u001b[0m\u001b[0;34m\u001b[0m\u001b[0;34m\u001b[0m\u001b[0m\n\u001b[0;32m----> 2\u001b[0;31m \u001b[0msignature\u001b[0m \u001b[0;34m=\u001b[0m \u001b[0msigner\u001b[0m\u001b[0;34m.\u001b[0m\u001b[0msign\u001b[0m\u001b[0;34m(\u001b[0m\u001b[0mmsg\u001b[0m\u001b[0;34m,\u001b[0m \u001b[0mprivKey\u001b[0m\u001b[0;34m)\u001b[0m\u001b[0;34m\u001b[0m\u001b[0;34m\u001b[0m\u001b[0m\n\u001b[0m\u001b[1;32m      3\u001b[0m \u001b[0mprint\u001b[0m\u001b[0;34m(\u001b[0m\u001b[0;34m\"Signature\"\u001b[0m\u001b[0;34m,\u001b[0m\u001b[0mbinascii\u001b[0m\u001b[0;34m.\u001b[0m\u001b[0mhexlify\u001b[0m\u001b[0;34m(\u001b[0m\u001b[0msignature\u001b[0m\u001b[0;34m)\u001b[0m\u001b[0;34m)\u001b[0m\u001b[0;34m\u001b[0m\u001b[0;34m\u001b[0m\u001b[0m\n\u001b[1;32m      4\u001b[0m \u001b[0mvalid\u001b[0m \u001b[0;34m=\u001b[0m \u001b[0msigner\u001b[0m\u001b[0;34m.\u001b[0m\u001b[0mverify\u001b[0m\u001b[0;34m(\u001b[0m\u001b[0mmsg\u001b[0m\u001b[0;34m,\u001b[0m\u001b[0msignature\u001b[0m\u001b[0;34m,\u001b[0m\u001b[0mpubKey\u001b[0m\u001b[0;34m)\u001b[0m\u001b[0;34m\u001b[0m\u001b[0;34m\u001b[0m\u001b[0m\n\u001b[1;32m      5\u001b[0m \u001b[0mprint\u001b[0m\u001b[0;34m(\u001b[0m\u001b[0;34m\"Valid Signature ? \"\u001b[0m\u001b[0;34m,\u001b[0m\u001b[0mvalid\u001b[0m\u001b[0;34m)\u001b[0m\u001b[0;34m\u001b[0m\u001b[0;34m\u001b[0m\u001b[0m\n",
      "\u001b[0;31mNameError\u001b[0m: name 'privKey' is not defined"
     ]
    }
   ],
   "source": [
    "msg = b'Message for zigning'\n",
    "signature = signer.sign(msg, privKey)\n",
    "print(\"Signature\",binascii.hexlify(signature))\n",
    "valid = signer.verify(msg,signature,pubKey)\n",
    "print(\"Valid Signature ? \",valid)\n"
   ]
  },
  {
   "cell_type": "code",
   "execution_count": 50,
   "metadata": {
    "colab": {
     "base_uri": "https://localhost:8080/",
     "height": 299
    },
    "executionInfo": {
     "elapsed": 453,
     "status": "error",
     "timestamp": 1627848259444,
     "user": {
      "displayName": "PRINCE MEHTA",
      "photoUrl": "https://lh3.googleusercontent.com/a-/AOh14Givx3iB6E2ypLoZj6amPNcDjzIe-DEnE3ec8CbI=s64",
      "userId": "11147082769438161026"
     },
     "user_tz": -330
    },
    "id": "yZvKsrRxUD-u",
    "outputId": "f2e7d074-2af6-4354-857d-caa3c26b5387"
   },
   "outputs": [
    {
     "ename": "AttributeError",
     "evalue": "ignored",
     "output_type": "error",
     "traceback": [
      "\u001b[0;31m---------------------------------------------------------------------------\u001b[0m",
      "\u001b[0;31mAttributeError\u001b[0m                            Traceback (most recent call last)",
      "\u001b[0;32m<ipython-input-50-b9d5d9881bbc>\u001b[0m in \u001b[0;36m<module>\u001b[0;34m()\u001b[0m\n\u001b[0;32m----> 1\u001b[0;31m \u001b[0mvalid\u001b[0m \u001b[0;34m=\u001b[0m \u001b[0msigner\u001b[0m\u001b[0;34m.\u001b[0m\u001b[0mverify\u001b[0m\u001b[0;34m(\u001b[0m\u001b[0;34mb'tampered msg'\u001b[0m\u001b[0;34m,\u001b[0m\u001b[0msignature\u001b[0m\u001b[0;34m,\u001b[0m\u001b[0mpubKey\u001b[0m\u001b[0;34m)\u001b[0m\u001b[0;34m\u001b[0m\u001b[0;34m\u001b[0m\u001b[0m\n\u001b[0m\u001b[1;32m      2\u001b[0m \u001b[0mprint\u001b[0m\u001b[0;34m(\u001b[0m\u001b[0;34m\"Valid signatyure ? \"\u001b[0m\u001b[0;34m,\u001b[0m\u001b[0mvalid\u001b[0m\u001b[0;34m)\u001b[0m\u001b[0;34m\u001b[0m\u001b[0;34m\u001b[0m\u001b[0m\n",
      "\u001b[0;32m/usr/local/lib/python3.7/dist-packages/ecpy/eddsa.py\u001b[0m in \u001b[0;36mverify\u001b[0;34m(self, msg, sig, pu_key)\u001b[0m\n\u001b[1;32m    180\u001b[0m             \u001b[0mpu_key\u001b[0m \u001b[0;34m(\u001b[0m\u001b[0mecpy\u001b[0m\u001b[0;34m.\u001b[0m\u001b[0mkeys\u001b[0m\u001b[0;34m.\u001b[0m\u001b[0mECPublicKey\u001b[0m\u001b[0;34m)\u001b[0m\u001b[0;34m:\u001b[0m \u001b[0mkey\u001b[0m \u001b[0mto\u001b[0m \u001b[0muse\u001b[0m \u001b[0;32mfor\u001b[0m \u001b[0mverifying\u001b[0m\u001b[0;34m\u001b[0m\u001b[0;34m\u001b[0m\u001b[0m\n\u001b[1;32m    181\u001b[0m         \"\"\"\n\u001b[0;32m--> 182\u001b[0;31m         \u001b[0mcurve\u001b[0m \u001b[0;34m=\u001b[0m \u001b[0mpu_key\u001b[0m\u001b[0;34m.\u001b[0m\u001b[0mcurve\u001b[0m\u001b[0;34m\u001b[0m\u001b[0;34m\u001b[0m\u001b[0m\n\u001b[0m\u001b[1;32m    183\u001b[0m         \u001b[0mn\u001b[0m     \u001b[0;34m=\u001b[0m \u001b[0mcurve\u001b[0m\u001b[0;34m.\u001b[0m\u001b[0morder\u001b[0m\u001b[0;34m\u001b[0m\u001b[0;34m\u001b[0m\u001b[0m\n\u001b[1;32m    184\u001b[0m         \u001b[0msize\u001b[0m  \u001b[0;34m=\u001b[0m \u001b[0mcurve\u001b[0m\u001b[0;34m.\u001b[0m\u001b[0m_coord_size\u001b[0m\u001b[0;34m(\u001b[0m\u001b[0;34m)\u001b[0m\u001b[0;34m\u001b[0m\u001b[0;34m\u001b[0m\u001b[0m\n",
      "\u001b[0;31mAttributeError\u001b[0m: 'RsaKey' object has no attribute 'curve'"
     ]
    }
   ],
   "source": [
    "valid = signer.verify(b'tampered msg',signature,pubKey)\n",
    "print(\"Valid signatyure ? \",valid)"
   ]
  },
  {
   "cell_type": "code",
   "execution_count": null,
   "metadata": {
    "id": "zmjughA_T-tZ"
   },
   "outputs": [],
   "source": []
  },
  {
   "cell_type": "code",
   "execution_count": null,
   "metadata": {
    "id": "cd0ELje4SkZh"
   },
   "outputs": [],
   "source": []
  }
 ],
 "metadata": {
  "colab": {
   "authorship_tag": "ABX9TyN0uHwd/qmfxzMxLYg07GnK",
   "collapsed_sections": [],
   "name": "lab_1.ipynb",
   "provenance": []
  },
  "kernelspec": {
   "display_name": "Python 3",
   "language": "python",
   "name": "python3"
  },
  "language_info": {
   "codemirror_mode": {
    "name": "ipython",
    "version": 3
   },
   "file_extension": ".py",
   "mimetype": "text/x-python",
   "name": "python",
   "nbconvert_exporter": "python",
   "pygments_lexer": "ipython3",
   "version": "3.7.6"
  }
 },
 "nbformat": 4,
 "nbformat_minor": 1
}
